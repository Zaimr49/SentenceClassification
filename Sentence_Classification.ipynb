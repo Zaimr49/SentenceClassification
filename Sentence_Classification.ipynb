{
 "cells": [
  {
   "attachments": {},
   "cell_type": "markdown",
   "metadata": {},
   "source": [
    "# Embeddings and Sentence Classification\n",
    "\n",
    "<center>\n",
    "    <img src=\"./assets/embeddings.jpeg\">\n",
    "</center>\n",
    "\n",
    "### Introduction\n",
    "\n",
    "Embeddings are a way to represent words (or more generally, *tokens*) as vectors. These vectors are useful for many tasks in NLP, including but not limited to: Text Generation, Machine Translation, and Sentence Classification. In this notebook, we will be exploring the concept of Embeddings, and using them for Sentence Classification.\n",
    "\n",
    "After this notebook, you should be able to:\n",
    "\n",
    "- Understand the concepts of Embeddings and Vector Similarity.\n",
    "\n",
    "- Use pre-trained Embeddings for Sentence Classification.\n",
    "\n",
    "### Instructions\n",
    "\n",
    "- Follow along with the notebook, filling out the necessary code where instructed.\n",
    "\n",
    "- <span style=\"color: red;\">Read the Submission Instructions and Plagiarism Policy in the attached PDF.</span>\n",
    "\n",
    "- <span style=\"color: red;\">Make sure to run all cells for credit.</span>\n",
    "\n",
    "- <span style=\"color: red;\">Do not remove any pre-written code.</span> We will be using the `print` statements to grade your assignment.\n",
    "\n",
    "- <span style=\"color: red;\">You must attempt all parts.</span> Do not assume that because something is for 0 marks, you can leave it - it will definitely be used in later parts."
   ]
  },
  {
   "cell_type": "code",
   "execution_count": 1,
   "metadata": {},
   "outputs": [
    {
     "name": "stderr",
     "output_type": "stream",
     "text": [
      "[nltk_data] Downloading package stopwords to\n",
      "[nltk_data]     C:\\Users\\Dell\\AppData\\Roaming\\nltk_data...\n",
      "[nltk_data]   Package stopwords is already up-to-date!\n",
      "[nltk_data] Downloading package wordnet to\n",
      "[nltk_data]     C:\\Users\\Dell\\AppData\\Roaming\\nltk_data...\n",
      "[nltk_data]   Package wordnet is already up-to-date!\n"
     ]
    },
    {
     "data": {
      "text/plain": [
       "True"
      ]
     },
     "execution_count": 1,
     "metadata": {},
     "output_type": "execute_result"
    }
   ],
   "source": [
    "import re\n",
    "\n",
    "import numpy as np\n",
    "import pandas as pd\n",
    "\n",
    "import nltk\n",
    "from nltk.corpus import stopwords\n",
    "\n",
    "from sklearn.model_selection import train_test_split\n",
    "\n",
    "import gensim.downloader as api\n",
    "from gensim.models.word2vec import Word2Vec\n",
    "\n",
    "from gpt4all import Embed4All\n",
    "\n",
    "import torch\n",
    "import torch.nn as nn\n",
    "\n",
    "nltk.download('stopwords')\n",
    "nltk.download('wordnet')"
   ]
  },
  {
   "attachments": {},
   "cell_type": "markdown",
   "metadata": {},
   "source": [
    "## Exploring Embeddings\n",
    "\n",
    "Put simply, Embeddings are fixed-size **dense** vector representations of tokens in natural language. This means you can represent words as vectors, sentences as vectors, even other entities like entire graphs as vectors.\n",
    "\n",
    "So what really makes them different from something like One-Hot vectors?\n",
    "\n",
    "What's special is that they have semantic meaning baked into them. This means you can model relationships between entities in text, which itself leads to a lot of fun applications. All modern architectures make use of Embeddings in some way.\n",
    "\n",
    "You can read more about them [here](https://aman.ai/primers/ai/word-vectors/).\n",
    "\n",
    "We will be using *pretrained* Embeddings: this means that we will be using Embeddings that have already been trained on a large corpus of text. This is because training Embeddings from scratch is a very computationally expensive task, and we don't have the resources to do so. Fortunately, there were some good samaritans who have already done this for us, and we can use their publicly available Embeddings for our own tasks.\n",
    "\n",
    "\n",
    "This part will allow you to explore what Embeddings are. We will load in pretrained Embeddings here and examine some of their properties. If you're interested, feel free look up the [Word2Vec model](https://arxiv.org/abs/1301.3781): this is the model that was trained to give us the embeddings you will see below."
   ]
  },
  {
   "cell_type": "code",
   "execution_count": 2,
   "metadata": {},
   "outputs": [
    {
     "name": "stdout",
     "output_type": "stream",
     "text": [
      "Done loading word2vec model!\n"
     ]
    }
   ],
   "source": [
    "# Download the pretrained word2vec model (this may take a few minutes)\n",
    "corpus = api.load('text8')\n",
    "w2vmodel = Word2Vec(corpus)\n",
    "\n",
    "print(\"Done loading word2vec model!\")"
   ]
  },
  {
   "attachments": {},
   "cell_type": "markdown",
   "metadata": {},
   "source": [
    "Now that we've loaded in the Embeddings, we can create an Embedding **layer** in PyTorch, `nn.Embedding`, that will perform the processing step for us.\n",
    "\n",
    "Note in the following cell how there is a given **vocab size** and **embedding dimension** for the model: this is important to note because some sets of Embeddings may be defined for a large set of words (a large vocab), whereas older ones perhaps have a smaller set (a small vocab); the Embedding dimension essentially tells us how many *features* have been learned for a given word, that will allow us to perform further processing on top of."
   ]
  },
  {
   "cell_type": "code",
   "execution_count": 3,
   "metadata": {},
   "outputs": [
    {
     "name": "stdout",
     "output_type": "stream",
     "text": [
      "Vocab size: 71290\n",
      "Some of the words in the vocabulary:\n",
      "['the', 'of', 'and', 'one', 'in', 'a', 'to', 'zero', 'nine', 'two']\n",
      "Embedding dimension: 100\n"
     ]
    }
   ],
   "source": [
    "# Define embedding layer using gensim\n",
    "embedding_layer = nn.Embedding.from_pretrained(torch.FloatTensor(w2vmodel.wv.vectors))\n",
    "\n",
    "# Get some information from the w2vmodel\n",
    "print(f\"Vocab size: {len(w2vmodel.wv.key_to_index)}\")\n",
    "\n",
    "print(f\"Some of the words in the vocabulary:\\n{list(w2vmodel.wv.key_to_index.keys())[:10]}\")\n",
    "\n",
    "print(f\"Embedding dimension: {w2vmodel.wv.vectors.shape[1]}\")"
   ]
  },
  {
   "attachments": {},
   "cell_type": "markdown",
   "metadata": {},
   "source": [
    "Now, for a demonstration, we instantiate two words, turn them into numbers (encoding them via their index in the vocab), and pass them through the Embedding layer. \n",
    "\n",
    "Note how the resultant Embeddings both have the same shape: 1 word, and 100 elements in the vector."
   ]
  },
  {
   "cell_type": "code",
   "execution_count": 4,
   "metadata": {},
   "outputs": [
    {
     "name": "stdout",
     "output_type": "stream",
     "text": [
      "Embedding Shape for 'king': torch.Size([1, 100])\n",
      "Embedding Shape for 'queen': torch.Size([1, 100])\n"
     ]
    }
   ],
   "source": [
    "# Take two words and get their embeddings\n",
    "word1 = \"king\"\n",
    "word2 = \"queen\"\n",
    "\n",
    "def word2vec(word):\n",
    "    return embedding_layer(torch.LongTensor([w2vmodel.wv.key_to_index[word]]))\n",
    "\n",
    "king_embedding = word2vec(word1)\n",
    "queen_embedding = word2vec(word2)\n",
    "\n",
    "print(f\"Embedding Shape for '{word1}': {king_embedding.shape}\")\n",
    "print(f\"Embedding Shape for '{word2}': {queen_embedding.shape}\")"
   ]
  },
  {
   "attachments": {},
   "cell_type": "markdown",
   "metadata": {},
   "source": [
    "When we have vectors whose scale is arbitrary, one nice way to measure how *similar* they are is with the Cosine Similarity measure.\n",
    "\n",
    "\n",
    "$$ \\text{Cosine Similarity}(\\mathbf{u},\\mathbf{v}) = \\frac{\\mathbf{u} \\cdot \\mathbf{v}}{\\|\\mathbf{u}\\| \\|\\mathbf{v}\\|} $$\n",
    "\n",
    "\n",
    "We can apply this idea to our Embeddings. To see how \"similar\" two words are to the model, we can generate their Embeddings and take the Cosine Similarity of them. This will be a number between -1 and 1 (just like the range of the cosine function). When the number is close to 0, the words are not similar."
   ]
  },
  {
   "cell_type": "code",
   "execution_count": 5,
   "metadata": {},
   "outputs": [
    {
     "name": "stdout",
     "output_type": "stream",
     "text": [
      "Similarity between 'king' and 'queen': 0.6943550705909729\n",
      "Similarity between 'king' and 'water': -0.015577456913888454\n"
     ]
    }
   ],
   "source": [
    "def cosine_similarity(vec1, vec2):\n",
    "    '''\n",
    "    Computes the cosine similarity between two vectors\n",
    "    '''\n",
    "\n",
    "    # TODO: Compute the cosine similarity between the two vectors (using PyTorch)\n",
    "    # Step1: Get the dot product of the two vectors\n",
    "    # Step2: Calculate the Norm of the First Vector\n",
    "    # Step3: Calculate the Norm of the Second Vector\n",
    "    # Step4: Calulcate the Product of the Two Norms\n",
    "    # Step5: Divide the Dot Product of the Two Vectors with the Product of the Two Norms\n",
    "    \n",
    "    dot_product = torch.dot(vec1, vec2)\n",
    "    # print(\"dot_product:\",dot_product)\n",
    "    norm_vec1 = torch.norm(vec1)\n",
    "    # print(\"norm_vec1\",norm_vec1)\n",
    "    norm_vec2 = torch.norm(vec2)\n",
    "    # print(\"norm_vec2\",norm_vec2)\n",
    "    similarity = dot_product / (norm_vec1 * norm_vec2)\n",
    "    # print(\"similarity\",similarity)\n",
    "    return similarity.item()\n",
    "\n",
    "def compute_word_similarity(word1, word2):\n",
    "    '''\n",
    "    Takes in two words, computes their embeddings and returns the cosine similarity\n",
    "    '''\n",
    "    # Step1: Making Embedding using the word2vec function for the 2 words\n",
    "    # Step2: Squeeze the Word Embedding to bring them to a 1D Tensor\n",
    "    # Step3: Get the cosine similarity using the two squeezed embedding vectors recieved in the previous step, by passing those vectors to the cosine similarity function\n",
    "    # Step4: Return the Answer back\n",
    "    \n",
    "\n",
    "    embedding1 = word2vec(word1)\n",
    "    embedding2 = word2vec(word2)\n",
    "    \n",
    "    embedding1_squeezed=embedding1.squeeze()\n",
    "    embedding2_squeezed=embedding2.squeeze()\n",
    "    \n",
    "    similarity = cosine_similarity(embedding1_squeezed, embedding2_squeezed)\n",
    "    return similarity\n",
    "\n",
    "    # Own Function\n",
    "def is_word_in_embeddings(word, embedding_model):\n",
    "    '''\n",
    "    Checks if a word is present in the vocabulary of pre-trained embeddings.\n",
    "    Returns True if the word is found, False otherwise.\n",
    "    '''\n",
    "    if word in embedding_model.wv.key_to_index:\n",
    "        return True\n",
    "    else:\n",
    "        return False\n",
    "    \n",
    "# TODO: Define three words (one pair should be similar and one pair should be dissimilar) and compute their similarity\n",
    "word1 = \"king\"\n",
    "word2 = \"queen\"\n",
    "word3 = \"water\"\n",
    "print(f\"Similarity between '{word1}' and '{word2}': {compute_word_similarity(word1, word2)}\")\n",
    "print(f\"Similarity between '{word1}' and '{word3}': {compute_word_similarity(word1, word3)}\")"
   ]
  },
  {
   "cell_type": "code",
   "execution_count": 6,
   "metadata": {},
   "outputs": [],
   "source": [
    "# Run this cell if you're done with the above section\n",
    "del embedding_layer"
   ]
  },
  {
   "cell_type": "markdown",
   "metadata": {},
   "source": [
    "## Sentence Classification Classification with Sentence Embeddings [20 Marks]\n",
    "\n",
    "Now let's move on to an actual application: classifying whether a tweet is about a real disaster or not. As you can imagine, this could be a valuable model when monitoring social media for disaster relief efforts.\n",
    "\n",
    "Since we are using Sentence Embeddings, we want something that will take in a sequence of words and throw out a single fixed-size vector. For this task, we will make use of an LLM via the `gpt4all` library.\n",
    "\n",
    "This library will allow us to generate pretrained embeddings for sentences, that we can use as **features** to feed to any classifier of our choice."
   ]
  },
  {
   "cell_type": "code",
   "execution_count": 7,
   "metadata": {},
   "outputs": [
    {
     "name": "stdout",
     "output_type": "stream",
     "text": [
      "(6090, 2) (1523, 2)\n"
     ]
    }
   ],
   "source": [
    "# Read in the data here\n",
    "df = pd.read_csv(\"./disaster_tweets.csv\")\n",
    "df = df[[\"text\", \"target\"]]\n",
    "\n",
    "# Split the data\n",
    "train, val = train_test_split(df, test_size=0.2, random_state=42)\n",
    "print(train.shape, val.shape)"
   ]
  },
  {
   "cell_type": "code",
   "execution_count": 8,
   "metadata": {},
   "outputs": [
    {
     "name": "stdout",
     "output_type": "stream",
     "text": [
      "                                                   text  target\n",
      "4996  Courageous and honest analysis of need to use ...       1\n",
      "3263  @ZachZaidman @670TheScore wld b a shame if tha...       0\n",
      "4907  Tell @BarackObama to rescind medals of 'honor'...       1\n",
      "2855  Worried about how the CA drought might affect ...       1\n",
      "4716  @YoungHeroesID Lava Blast &amp; Power Red #Pan...       0\n",
      "...                                                 ...     ...\n",
      "5226  @Eganator2000 There aren't many Obliteration s...       0\n",
      "5390  just had a panic attack bc I don't have enough...       0\n",
      "860   Omron HEM-712C Automatic Blood Pressure Monito...       0\n",
      "7603  Officials say a quarantine is in place at an A...       1\n",
      "7270  I moved to England five years ago today. What ...       1\n",
      "\n",
      "[6090 rows x 2 columns]\n"
     ]
    }
   ],
   "source": [
    "print(train)"
   ]
  },
  {
   "cell_type": "markdown",
   "metadata": {},
   "source": [
    "Before jumping straight to Embeddings, since our data is sourced from the cesspool that is Twitter, we should probably do some cleaning. This can involve the removal of URLs, punctuation, numbers that don't provide any meaning, stopwords, and so on.'\n",
    "\n",
    "In the following cell, write functions to clean the sentences. You are allowed to add more functions if you wish, but the ones provided are the bare minimum.\n",
    "\n",
    "**Note:** After cleaning your sentences, it is possible that you may end up with empty sentences (or some that are so short they have lost all meaning). In this event, since we want to demonstrate setting up a Sentence Classification task, you should remove them from your dataset (data cleaning is not the center of this notebook)."
   ]
  },
  {
   "cell_type": "code",
   "execution_count": 9,
   "metadata": {},
   "outputs": [
    {
     "name": "stdout",
     "output_type": "stream",
     "text": [
      "(5966, 3) (1501, 3)\n"
     ]
    }
   ],
   "source": [
    "# TODO: Clean the sentences (5 marks)\n",
    "\n",
    "\n",
    "# TODO: Fill out the following functions, adding more if desired\n",
    "\n",
    "def lowercase(txt):\n",
    "\n",
    "    return txt.lower()\n",
    "\n",
    "def remove_punctuation(txt):\n",
    "    punctuation_pattern=r'[^\\w\\s]'\n",
    "    txt_without_punctuation=re.sub(punctuation_pattern, '', txt)\n",
    "    return txt_without_punctuation\n",
    "\n",
    "def remove_stopwords(txt):\n",
    "    stopwords_pattern=r'[^\\w\\s]'\n",
    "    txt_without_stopwords=re.sub(stopwords_pattern, '', txt)\n",
    "    return txt_without_stopwords\n",
    "\n",
    "def remove_numbers(txt):\n",
    "    number_pattern = r'\\d+'\n",
    "    text_without_numbers = re.sub(number_pattern, '', txt)\n",
    "    return text_without_numbers\n",
    "\n",
    "def remove_url(txt):\n",
    "    url_pattern=r'http\\S+'\n",
    "    text_without_url = re.sub(url_pattern, '', txt)\n",
    "    return text_without_url\n",
    "\n",
    "def normalize_sentence(txt):\n",
    "    '''\n",
    "    Aggregates all the above functions to normalize/clean a sentence\n",
    "    '''\n",
    "    txt = lowercase(txt)\n",
    "    txt = remove_punctuation(txt)\n",
    "    txt = remove_stopwords(txt)\n",
    "    txt = remove_numbers(txt)\n",
    "    txt = remove_url(txt)\n",
    "    return txt\n",
    "\n",
    "# TODO: Clean the sentences\n",
    "train['clean_text'] = train['text'].apply(normalize_sentence)\n",
    "val['clean_text'] = val['text'].apply(normalize_sentence)\n",
    "# df['clean_text'] = df['text'].apply(normalize_sentence)\n",
    "\n",
    "# TODO: Filter sentences that are too short (less than 20ish characters)\n",
    "train = train[train['clean_text'].apply(lambda x: len(x) > 20)]\n",
    "val = val[val['clean_text'].apply(lambda x: len(x) > 20)]\n",
    "# df = df[df['clean_text'].apply(lambda x: len(x) > 20)]\n",
    "\n",
    "\n",
    "# Check the shapes of cleaned train and validation data\n",
    "print(train.shape, val.shape)"
   ]
  },
  {
   "cell_type": "markdown",
   "metadata": {},
   "source": [
    "Now for the fun part, creating our Embeddings!\n",
    "\n",
    "We will be using the `gpt4all.Embed4All` class for this purpose. You can look up the documentation [here](https://docs.gpt4all.io/gpt4all_python_embedding.html#gpt4all.gpt4all.Embed4All.embed).\n",
    "\n",
    "This functionality makes use of a model called [Sentence-BERT](https://arxiv.org/abs/1908.10084). This is a Transformer-based model that has been trained on a large corpus of text, and is able to generate high-quality Sentence Embeddings for us."
   ]
  },
  {
   "cell_type": "code",
   "execution_count": 10,
   "metadata": {},
   "outputs": [],
   "source": [
    "# TODO: Generate embeddings for train and validation sentences (5 marks)\n",
    "\n",
    "feature_extractor = Embed4All()\n",
    "\n",
    "# TODO: Encode the train samples\n",
    "\n",
    "\n",
    "# TODO: Encode the train sentences\n",
    "# train_sentences = train['clean_text'].tolist()\n",
    "# train_embeddings = feature_extractor.embed(train_sentences)\n",
    "train_sentences = train['clean_text'].tolist()\n",
    "train_embeddings = []\n",
    "\n",
    "for sentence in train_sentences:\n",
    "    embedding = feature_extractor.embed(sentence)\n",
    "    train_embeddings.append(embedding)\n",
    "\n",
    "# TODO: Encode the validation sentences\n",
    "# val_sentences = val['clean_text'].tolist()\n",
    "# val_embeddings = feature_extractor.embed(val_sentences)\n",
    "val_sentences = val['clean_text'].tolist()\n",
    "val_embeddings = []\n",
    "\n",
    "for sentence in val_sentences:\n",
    "    embedding = feature_extractor.embed(sentence)\n",
    "    val_embeddings.append(embedding)\n",
    "\n",
    "\n",
    "# TODO: Ready the labels\n",
    "train_labels = train['target'].tolist()\n",
    "val_labels = val['target'].tolist()"
   ]
  },
  {
   "cell_type": "markdown",
   "metadata": {},
   "source": [
    "Now with our Embeddings ready, we can move on to the actual classification task.\n",
    "\n",
    "You have the choice of using **any** classifier you wish. You can use a simple Logistic Regression model, get fancy with Support Vector Machines, or even use a Neural Network. The choice is yours.\n",
    "\n",
    "We will be looking for a model with a **Validation Accuracy** of around $0.8$. You must also use this model to make predictions on your own provided inputs, after completing the `predict` function."
   ]
  },
  {
   "cell_type": "code",
   "execution_count": 11,
   "metadata": {},
   "outputs": [
    {
     "name": "stdout",
     "output_type": "stream",
     "text": [
      "(5966, 384)\n",
      "Validation Accuracy: 0.8081\n"
     ]
    }
   ],
   "source": [
    "# TODO: Get 0.8 Validation Acc with a Classifier (5 marks)\n",
    "from sklearn.linear_model import LogisticRegression\n",
    "from sklearn.metrics import accuracy_score\n",
    "\n",
    "# Convert embeddings to numpy arrays\n",
    "train_embeddings = np.array(train_embeddings)\n",
    "val_embeddings = np.array(val_embeddings)\n",
    "\n",
    "print(train_embeddings.shape)\n",
    "\n",
    "# Reshape the embeddings for Logistic Regression\n",
    "train_embeddings = [emb.reshape(-1) for emb in train_embeddings]\n",
    "val_embeddings = [emb.reshape(-1) for emb in val_embeddings]\n",
    "\n",
    "# Create a Logistic Regression model\n",
    "model = LogisticRegression(max_iter=1000, random_state=42)\n",
    "\n",
    "# Fit the model\n",
    "model.fit(train_embeddings, train_labels)\n",
    "\n",
    "# Predict on the validation set\n",
    "val_predictions = model.predict(val_embeddings)\n",
    "\n",
    "# Calculate validation accuracy\n",
    "accuracy = accuracy_score(val_labels, val_predictions)\n",
    "print(f\"Validation Accuracy: {accuracy:.4f}\")\n"
   ]
  },
  {
   "cell_type": "code",
   "execution_count": 12,
   "metadata": {},
   "outputs": [
    {
     "name": "stdout",
     "output_type": "stream",
     "text": [
      "Sentence: What are natural disasters.\n",
      "Predicted Class: 1, Probability: 0.8829\n",
      "\n",
      "Sentence: I love sunny days at the Cliffton Beach.\n",
      "Predicted Class: 0, Probability: 0.6642\n",
      "\n",
      "Sentence: The strongest earthquake in Pakistan happened on 09/24/2013\n",
      "Predicted Class: 1, Probability: 0.8867\n",
      "\n"
     ]
    }
   ],
   "source": [
    "def predict(sentence, clf):\n",
    "    '''\n",
    "    Takes in a sentence and returns the predicted class along with the probability\n",
    "    '''\n",
    "    # TODO: Clean and encode the sentence\n",
    "    cleaned_sentence = normalize_sentence(sentence)\n",
    "    \n",
    "    sentence_embedding = feature_extractor.embed(cleaned_sentence)\n",
    "    \n",
    "    sentence_embedding = np.array(sentence_embedding)\n",
    "    \n",
    "    sentence_embedding = sentence_embedding.reshape(1, -1)\n",
    "    \n",
    "    # TODO: Predict the class and probability\n",
    "    predicted_class = clf.predict(sentence_embedding)[0]  \n",
    "    probability = clf.predict_proba(sentence_embedding)[0][predicted_class]\n",
    "    \n",
    "    return predicted_class, probability\n",
    "\n",
    "# Example Sentences\n",
    "sentences_to_predict = [\n",
    "    \"What are natural disasters.\",\n",
    "    \"I love sunny days at the Cliffton Beach.\",\n",
    "    \"The strongest earthquake in Pakistan happened on 09/24/2013\"\n",
    "]\n",
    "\n",
    "# Predict on example sentences\n",
    "for sentence in sentences_to_predict:\n",
    "    pred_class, prob = predict(sentence, model)\n",
    "    print(f\"Sentence: {sentence}\")\n",
    "    print(f\"Predicted Class: {pred_class}, Probability: {prob:.4f}\\n\")"
   ]
  },
  {
   "cell_type": "markdown",
   "metadata": {},
   "source": [
    "Hopefully now you realize the power of Embeddings, and the usefulness of pretrained models.\n",
    "\n",
    "# Fin."
   ]
  }
 ],
 "metadata": {
  "kernelspec": {
   "display_name": "base",
   "language": "python",
   "name": "python3"
  },
  "language_info": {
   "codemirror_mode": {
    "name": "ipython",
    "version": 3
   },
   "file_extension": ".py",
   "mimetype": "text/x-python",
   "name": "python",
   "nbconvert_exporter": "python",
   "pygments_lexer": "ipython3",
   "version": "3.10.11"
  },
  "orig_nbformat": 4,
  "vscode": {
   "interpreter": {
    "hash": "bbe381b710e5d3541ca1e32a0f143d44d9fc319722adcf51c48d4250c2e9fef8"
   }
  }
 },
 "nbformat": 4,
 "nbformat_minor": 2
}
